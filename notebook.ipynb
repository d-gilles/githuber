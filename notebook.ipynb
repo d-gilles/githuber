{
 "cells": [
  {
   "cell_type": "code",
   "execution_count": 71,
   "metadata": {},
   "outputs": [],
   "source": [
    "import os\n",
    "import random\n",
    "import requests\n",
    "\n",
    "from bs4 import BeautifulSoup as bs4\n",
    "from datetime import datetime, time, timedelta\n",
    "from apscheduler.schedulers.blocking import BlockingScheduler\n",
    "from github import Github\n",
    "from apscheduler.triggers.interval import IntervalTrigger\n",
    "\n",
    "# setup Github\n",
    "g = Github(os.getenv('GITHUB_TOKEN'))\n",
    "REPO_NAME = os.getenv('REPO_NAME')\n",
    "repo = g.get_user().get_repo(REPO_NAME)\n",
    "\n",
    "# setup variables\n",
    "push_min = int(os.getenv('PUSH_MIN', '1'))\n",
    "push_max = int(os.getenv('PUSH_MAX', '5'))\n",
    "prob = int(os.getenv('PROB', '20'))\n",
    "prob_we = 85 #int(os.getenv('PROB_WE', '85'))\n",
    "start = int(os.getenv('START', '9'))\n",
    "stop = int(os.getenv('STOP', '17'))\n",
    "\n",
    "URL = os.environ.get('URL')"
   ]
  },
  {
   "cell_type": "code",
   "execution_count": 3,
   "metadata": {},
   "outputs": [],
   "source": [
    "# scrape the book\n",
    "def scrape():\n",
    "    # get the url\n",
    "    if URL is not None:\n",
    "        page = requests.get(URL)\n",
    "        # parse the html\n",
    "        soup = bs4(page.text, 'html.parser')\n",
    "        # find the elements\n",
    "        elements = soup.find_all(['h2', 'p'])\n",
    "        # return the text\n",
    "        lines = [element.text for element in elements]\n",
    "        book = '\\n'.join(lines[0:2] + lines[3:9])\n",
    "        return book\n",
    "    else:\n",
    "        return ''\n",
    "    "
   ]
  },
  {
   "cell_type": "code",
   "execution_count": 4,
   "metadata": {},
   "outputs": [],
   "source": [
    "def push_to_github():\n",
    "    # get the book\n",
    "    book = scrape()\n",
    "    filename = 'the_book.txt'    \n",
    "\n",
    "    # pull the file from github\n",
    "    contents = repo.get_contents(filename, ref='master')\n",
    "    lob = [x for x in contents.decoded_content.decode().split('\\n') if x != '']\n",
    "    l1 = len(lob)\n",
    "    line_to_append = book.split('\\n')[l1:l1+1]+['\\n']\n",
    "    lob += line_to_append\n",
    "    \n",
    "    repo.update_file(contents.path, f'add line nr.: {l1+1}', '\\n'.join(lob), contents.sha, branch='master')\n",
    "\n",
    "    return lob"
   ]
  },
  {
   "cell_type": "code",
   "execution_count": 79,
   "metadata": {},
   "outputs": [],
   "source": [
    "def schedule_pushes(push_min=1, push_max=12, prob=20, prob_we=85, start=11, stop=20):\n",
    "    \n",
    "    is_weekend = datetime.today().weekday() >= 5\n",
    "    mood = random.random()\n",
    "    lazy = random.random()\n",
    "    \n",
    "    print('weekend: ', is_weekend)\n",
    "    print('threadhold: ', prob_we/100)\n",
    "    print('mood is: ', mood, (mood < prob_we/100) )\n",
    "    print('lazy? : ', lazy, (lazy < prob/100))\n",
    "    \n",
    "    if (is_weekend and (mood < prob_we/100)) or ((not is_weekend) and (lazy < prob/100)):\n",
    "        print('do nothing today')\n",
    "        return 0\n",
    "    else:\n",
    "        num_pushes = random.randint(push_min, push_max)\n",
    "        print(f\"Will push {num_pushes} times today starting at {start}am and ending at {stop}pm\")\n",
    "        \n",
    "        x = datetime.now() + timedelta(minutes=1)\n",
    "        y = datetime.now() + timedelta(hours=stop - start)\n",
    "        n = (stop - start) / (num_pushes)\n",
    "        \n",
    "        interval_in_secounds = n*60*60\n",
    "        jitter = interval_in_secounds/2*0.9\n",
    "        \n",
    "        print('start at', x)\n",
    "        print('stop at', y)\n",
    "        print('interval', n)\n",
    "        print('interval in seconds = ', interval_in_secounds)\n",
    "        print('jitter = ', interval_in_secounds/2*0.9)\n",
    "        \n",
    "        return num_pushes\n",
    "    \n",
    "    "
   ]
  },
  {
   "cell_type": "code",
   "execution_count": 78,
   "metadata": {},
   "outputs": [
    {
     "name": "stdout",
     "output_type": "stream",
     "text": [
      "weekend:  False\n",
      "threadhold:  0.85\n",
      "mood is:  0.507034550774909 True\n",
      "lazy? :  0.7116414523216245 False\n",
      "Will push 3 times today starting at 9am and ending at 17pm\n",
      "start at 2023-07-17 13:53:57.696974\n",
      "stop at 2023-07-17 21:52:57.696982\n",
      "interval 2.6666666666666665\n",
      "interval in seconds =  9600.0\n",
      "jitter =  4320.0\n"
     ]
    },
    {
     "data": {
      "text/plain": [
       "(3,\n",
       " 9600.0,\n",
       " 4320.0,\n",
       " datetime.datetime(2023, 7, 17, 13, 53, 57, 696974),\n",
       " datetime.datetime(2023, 7, 17, 21, 52, 57, 696982))"
      ]
     },
     "execution_count": 78,
     "metadata": {},
     "output_type": "execute_result"
    }
   ],
   "source": [
    "schedule_pushes(push_min, push_max, prob, prob_we, start, stop)"
   ]
  },
  {
   "cell_type": "code",
   "execution_count": 21,
   "metadata": {},
   "outputs": [
    {
     "data": {
      "text/plain": [
       "['Le Petit Prince',\n",
       " 'Antoine de Saint-Exupéry',\n",
       " 'DEDICACE',\n",
       " 'A LÉON WERTH.',\n",
       " 'Je demande pardon aux',\n",
       " \"enfants d'avoir dédié ce livre à une grande\"]"
      ]
     },
     "execution_count": 21,
     "metadata": {},
     "output_type": "execute_result"
    }
   ],
   "source": [
    "filename = 'the_book.txt'\n",
    "contents = repo.get_contents(filename, ref='master')\n",
    "lob = [x for x in contents.decoded_content.decode().split('\\n') if x != '']\n",
    "lob\n",
    "# repo.update_file(contents.path, 'update from Huber', '\\n', contents.sha, branch='master')"
   ]
  },
  {
   "cell_type": "code",
   "execution_count": 9,
   "metadata": {},
   "outputs": [
    {
     "data": {
      "text/plain": [
       "['Le Petit Prince',\n",
       " 'Antoine de Saint-Exupéry',\n",
       " 'DEDICACE',\n",
       " 'A LÉON WERTH.',\n",
       " 'Je demande pardon aux',\n",
       " \"enfants d'avoir dédié ce livre à une grande\",\n",
       " '\\n']"
      ]
     },
     "execution_count": 9,
     "metadata": {},
     "output_type": "execute_result"
    }
   ],
   "source": [
    "push_to_github()"
   ]
  },
  {
   "cell_type": "code",
   "execution_count": null,
   "metadata": {},
   "outputs": [],
   "source": []
  },
  {
   "cell_type": "code",
   "execution_count": null,
   "metadata": {},
   "outputs": [],
   "source": []
  }
 ],
 "metadata": {
  "hide_input": false,
  "kernelspec": {
   "display_name": "Python 3 (ipykernel)",
   "language": "python",
   "name": "python3"
  },
  "language_info": {
   "codemirror_mode": {
    "name": "ipython",
    "version": 3
   },
   "file_extension": ".py",
   "mimetype": "text/x-python",
   "name": "python",
   "nbconvert_exporter": "python",
   "pygments_lexer": "ipython3",
   "version": "3.10.6"
  },
  "toc": {
   "base_numbering": 1,
   "nav_menu": {},
   "number_sections": true,
   "sideBar": true,
   "skip_h1_title": false,
   "title_cell": "Table of Contents",
   "title_sidebar": "Contents",
   "toc_cell": false,
   "toc_position": {},
   "toc_section_display": true,
   "toc_window_display": false
  }
 },
 "nbformat": 4,
 "nbformat_minor": 2
}
