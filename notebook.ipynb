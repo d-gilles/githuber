{
 "cells": [
  {
   "cell_type": "code",
   "execution_count": 37,
   "metadata": {},
   "outputs": [
    {
     "name": "stdout",
     "output_type": "stream",
     "text": [
      "repo:  githuber\n",
      "token:  <github.MainClass.Github object at 0x7f4a757550f0>\n",
      "user:  Repository(full_name=\"d-gilles/githuber\")\n"
     ]
    }
   ],
   "source": [
    "import os\n",
    "import random\n",
    "import requests\n",
    "\n",
    "from bs4 import BeautifulSoup as bs4\n",
    "from datetime import datetime, time, timedelta\n",
    "from time import sleep\n",
    "from github import Github\n",
    "# Authentication is defined via github.Auth\n",
    "from github import Auth\n",
    "\n",
    "# using an access token\n",
    "auth = Auth.Token(os.getenv('GITHUB_TOKEN'))\n",
    "\n",
    "# Public Web Github\n",
    "g = Github(auth=auth)\n",
    "\n",
    "# setup Github\n",
    "REPO_NAME = os.getenv('REPO_NAME')\n",
    "repo = g.get_user().get_repo(REPO_NAME)\n",
    "\n",
    "print('repo: ', REPO_NAME)\n",
    "print('token: ', g)\n",
    "print('user: ', repo)\n",
    "\n",
    "# setup variables\n",
    "push_min = int(os.getenv('PUSH_MIN', '1'))\n",
    "push_max = int(os.getenv('PUSH_MAX', '5'))\n",
    "prob = int(os.getenv('PROB', '30'))\n",
    "prob_we = int(os.getenv('PROB_WE', '10'))\n",
    "start = int(os.getenv('START', '9'))\n",
    "stop = int(os.getenv('STOP', '17'))\n",
    "\n",
    "URL = os.environ.get('URL')"
   ]
  },
  {
   "cell_type": "code",
   "execution_count": 2,
   "metadata": {},
   "outputs": [],
   "source": [
    "# scrape the book\n",
    "def scrape():\n",
    "    # get the url\n",
    "    if URL is not None:\n",
    "        page = requests.get(URL)\n",
    "        # parse the html\n",
    "        soup = bs4(page.text, 'html.parser')\n",
    "        # find the elements\n",
    "        elements = soup.find_all(['h2', 'p'])\n",
    "        # return the text\n",
    "        lines = [element.text for element in elements]\n",
    "        book = '\\n'.join(lines[0:2] + lines[3:9])\n",
    "        return book\n",
    "    else:\n",
    "        return ''\n",
    "    "
   ]
  },
  {
   "cell_type": "code",
   "execution_count": 32,
   "metadata": {},
   "outputs": [],
   "source": [
    "def push_to_github():\n",
    "    # get the book\n",
    "    book = scrape()\n",
    "    filename = 'the_book.txt'\n",
    "\n",
    "    # pull the file from github\n",
    "    contents = repo.get_contents(filename, ref='master')\n",
    "    print('contents: ', contents)\n",
    "    print('lenth of book at github: ', len(contents.decoded_content.decode()))\n",
    "    if len(contents.decoded_content.decode()) > 1:\n",
    "        \n",
    "        print('book at github: ', contents.decoded_content.decode())\n",
    "        lob = [x for x in contents.decoded_content.decode().split('\\n')]\n",
    "    else:\n",
    "        lob = []    \n",
    "    print ('book at github: ', lob)\n",
    "    l1 = len(lob)\n",
    "    print('lines of book at github: ', l1)\n",
    "    line_to_append = book.split('\\n')[l1:l1+1]\n",
    "    print('line to append: ', line_to_append)\n",
    "    lob += line_to_append\n",
    "    print('lenth of book after append: ', len(lob))\n",
    "\n",
    "    #repo.update_file(contents.path, f'add line nr.: {l1+1}', '\\n'.join(lob), contents.sha, branch='master')\n",
    "    print(f'pushed line nr.: {l1+1}')\n",
    "    return lob"
   ]
  },
  {
   "cell_type": "code",
   "execution_count": 34,
   "metadata": {},
   "outputs": [
    {
     "name": "stdout",
     "output_type": "stream",
     "text": [
      "contents:  ContentFile(path=\"the_book.txt\")\n",
      "lenth of book at github:  40\n",
      "book at github:  Le Petit Prince\n",
      "Antoine de Saint-Exupéry\n",
      "book at github:  ['Le Petit Prince', 'Antoine de Saint-Exupéry']\n",
      "lenth of book at github:  2\n",
      "line to append:  ['DEDICACE']\n",
      "lenth of book after append:  3\n",
      "pushed line nr.: 3\n"
     ]
    },
    {
     "data": {
      "text/plain": [
       "['Le Petit Prince', 'Antoine de Saint-Exupéry', 'DEDICACE']"
      ]
     },
     "execution_count": 34,
     "metadata": {},
     "output_type": "execute_result"
    }
   ],
   "source": [
    "push_to_github()"
   ]
  },
  {
   "cell_type": "code",
   "execution_count": 79,
   "metadata": {},
   "outputs": [],
   "source": [
    "def schedule_pushes(push_min=1, push_max=12, prob=20, prob_we=85, start=11, stop=20):\n",
    "    \n",
    "    is_weekend = datetime.today().weekday() >= 5\n",
    "    mood = random.random()\n",
    "    lazy = random.random()\n",
    "    \n",
    "    print('weekend: ', is_weekend)\n",
    "    print('threadhold: ', prob_we/100)\n",
    "    print('mood is: ', mood, (mood < prob_we/100) )\n",
    "    print('lazy? : ', lazy, (lazy < prob/100))\n",
    "    \n",
    "    if (is_weekend and (mood < prob_we/100)) or ((not is_weekend) and (lazy < prob/100)):\n",
    "        print('do nothing today')\n",
    "        return 0\n",
    "    else:\n",
    "        num_pushes = random.randint(push_min, push_max)\n",
    "        print(f\"Will push {num_pushes} times today starting at {start}am and ending at {stop}pm\")\n",
    "        \n",
    "        x = datetime.now() + timedelta(minutes=1)\n",
    "        y = datetime.now() + timedelta(hours=stop - start)\n",
    "        n = (stop - start) / (num_pushes)\n",
    "        \n",
    "        interval_in_secounds = n*60*60\n",
    "        jitter = interval_in_secounds/2*0.9\n",
    "        \n",
    "        print('start at', x)\n",
    "        print('stop at', y)\n",
    "        print('interval', n)\n",
    "        print('interval in seconds = ', interval_in_secounds)\n",
    "        print('jitter = ', interval_in_secounds/2*0.9)\n",
    "        \n",
    "        return num_pushes\n",
    "    \n",
    "    "
   ]
  },
  {
   "cell_type": "code",
   "execution_count": 80,
   "metadata": {},
   "outputs": [
    {
     "name": "stdout",
     "output_type": "stream",
     "text": [
      "weekend:  False\n",
      "threadhold:  0.85\n",
      "mood is:  0.5553249334452173 True\n",
      "lazy? :  0.11488693547720175 True\n",
      "do nothing today\n"
     ]
    },
    {
     "data": {
      "text/plain": [
       "0"
      ]
     },
     "execution_count": 80,
     "metadata": {},
     "output_type": "execute_result"
    }
   ],
   "source": [
    "schedule_pushes(push_min, push_max, prob, prob_we, start, stop)"
   ]
  }
 ],
 "metadata": {
  "hide_input": false,
  "kernelspec": {
   "display_name": "Python 3 (ipykernel)",
   "language": "python",
   "name": "python3"
  },
  "language_info": {
   "codemirror_mode": {
    "name": "ipython",
    "version": 3
   },
   "file_extension": ".py",
   "mimetype": "text/x-python",
   "name": "python",
   "nbconvert_exporter": "python",
   "pygments_lexer": "ipython3",
   "version": "3.10.6"
  },
  "toc": {
   "base_numbering": 1,
   "nav_menu": {},
   "number_sections": true,
   "sideBar": true,
   "skip_h1_title": false,
   "title_cell": "Table of Contents",
   "title_sidebar": "Contents",
   "toc_cell": false,
   "toc_position": {},
   "toc_section_display": true,
   "toc_window_display": false
  }
 },
 "nbformat": 4,
 "nbformat_minor": 2
}
